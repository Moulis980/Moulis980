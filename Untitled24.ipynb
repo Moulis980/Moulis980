{
  "nbformat": 4,
  "nbformat_minor": 0,
  "metadata": {
    "colab": {
      "provenance": [],
      "authorship_tag": "ABX9TyMCFZUK2F2TuBJMu6am7A4s",
      "include_colab_link": true
    },
    "kernelspec": {
      "name": "python3",
      "display_name": "Python 3"
    },
    "language_info": {
      "name": "python"
    }
  },
  "cells": [
    {
      "cell_type": "markdown",
      "metadata": {
        "id": "view-in-github",
        "colab_type": "text"
      },
      "source": [
        "<a href=\"https://colab.research.google.com/github/Moulis980/Moulis980/blob/main/Untitled24.ipynb\" target=\"_parent\"><img src=\"https://colab.research.google.com/assets/colab-badge.svg\" alt=\"Open In Colab\"/></a>"
      ]
    },
    {
      "cell_type": "code",
      "execution_count": 16,
      "metadata": {
        "colab": {
          "base_uri": "https://localhost:8080/",
          "height": 581
        },
        "id": "GUVxkGLoqJ3h",
        "outputId": "5a2b6be5-8068-4170-9c69-b477c5882ac6"
      },
      "outputs": [
        {
          "output_type": "stream",
          "name": "stdout",
          "text": [
            "Lane 2 has more vehicles. Giving longer green light to Lane 2.\n"
          ]
        },
        {
          "output_type": "error",
          "ename": "DisabledFunctionError",
          "evalue": "cv2.imshow() is disabled in Colab, because it causes Jupyter sessions\nto crash; see https://github.com/jupyter/notebook/issues/3935.\nAs a substitution, consider using\n  from google.colab.patches import cv2_imshow\n",
          "traceback": [
            "\u001b[0;31m---------------------------------------------------------------------------\u001b[0m",
            "\u001b[0;31mDisabledFunctionError\u001b[0m                     Traceback (most recent call last)",
            "\u001b[0;32m<ipython-input-16-d3676159acde>\u001b[0m in \u001b[0;36m<cell line: 0>\u001b[0;34m()\u001b[0m\n\u001b[1;32m    102\u001b[0m \u001b[0;32mif\u001b[0m \u001b[0m__name__\u001b[0m \u001b[0;34m==\u001b[0m \u001b[0;34m\"__main__\"\u001b[0m\u001b[0;34m:\u001b[0m\u001b[0;34m\u001b[0m\u001b[0;34m\u001b[0m\u001b[0m\n\u001b[1;32m    103\u001b[0m     \u001b[0mvideo_path\u001b[0m \u001b[0;34m=\u001b[0m \u001b[0;34m\"/content/invideo-ai-1080 The Lone Car Journey 2025-03-20.mp4\"\u001b[0m  \u001b[0;31m# Replace with your video file path\u001b[0m\u001b[0;34m\u001b[0m\u001b[0;34m\u001b[0m\u001b[0m\n\u001b[0;32m--> 104\u001b[0;31m     \u001b[0mmain\u001b[0m\u001b[0;34m(\u001b[0m\u001b[0mvideo_path\u001b[0m\u001b[0;34m)\u001b[0m\u001b[0;34m\u001b[0m\u001b[0;34m\u001b[0m\u001b[0m\n\u001b[0m",
            "\u001b[0;32m<ipython-input-16-d3676159acde>\u001b[0m in \u001b[0;36mmain\u001b[0;34m(video_path)\u001b[0m\n\u001b[1;32m     92\u001b[0m \u001b[0;34m\u001b[0m\u001b[0m\n\u001b[1;32m     93\u001b[0m         \u001b[0;31m# Display frame\u001b[0m\u001b[0;34m\u001b[0m\u001b[0;34m\u001b[0m\u001b[0m\n\u001b[0;32m---> 94\u001b[0;31m         \u001b[0mcv2\u001b[0m\u001b[0;34m.\u001b[0m\u001b[0mimshow\u001b[0m\u001b[0;34m(\u001b[0m\u001b[0;34m\"Traffic Management\"\u001b[0m\u001b[0;34m,\u001b[0m \u001b[0mframe\u001b[0m\u001b[0;34m)\u001b[0m\u001b[0;34m\u001b[0m\u001b[0;34m\u001b[0m\u001b[0m\n\u001b[0m\u001b[1;32m     95\u001b[0m         \u001b[0;32mif\u001b[0m \u001b[0mcv2\u001b[0m\u001b[0;34m.\u001b[0m\u001b[0mwaitKey\u001b[0m\u001b[0;34m(\u001b[0m\u001b[0;36m1\u001b[0m\u001b[0;34m)\u001b[0m \u001b[0;34m&\u001b[0m \u001b[0;36m0xFF\u001b[0m \u001b[0;34m==\u001b[0m \u001b[0mord\u001b[0m\u001b[0;34m(\u001b[0m\u001b[0;34m'q'\u001b[0m\u001b[0;34m)\u001b[0m\u001b[0;34m:\u001b[0m\u001b[0;34m\u001b[0m\u001b[0;34m\u001b[0m\u001b[0m\n\u001b[1;32m     96\u001b[0m             \u001b[0;32mbreak\u001b[0m\u001b[0;34m\u001b[0m\u001b[0;34m\u001b[0m\u001b[0m\n",
            "\u001b[0;32m/usr/local/lib/python3.11/dist-packages/google/colab/_import_hooks/_cv2.py\u001b[0m in \u001b[0;36mwrapped\u001b[0;34m(*args, **kwargs)\u001b[0m\n\u001b[1;32m     46\u001b[0m   \u001b[0;32mdef\u001b[0m \u001b[0mwrapped\u001b[0m\u001b[0;34m(\u001b[0m\u001b[0;34m*\u001b[0m\u001b[0margs\u001b[0m\u001b[0;34m,\u001b[0m \u001b[0;34m**\u001b[0m\u001b[0mkwargs\u001b[0m\u001b[0;34m)\u001b[0m\u001b[0;34m:\u001b[0m\u001b[0;34m\u001b[0m\u001b[0;34m\u001b[0m\u001b[0m\n\u001b[1;32m     47\u001b[0m     \u001b[0;32mif\u001b[0m \u001b[0;32mnot\u001b[0m \u001b[0mos\u001b[0m\u001b[0;34m.\u001b[0m\u001b[0menviron\u001b[0m\u001b[0;34m.\u001b[0m\u001b[0mget\u001b[0m\u001b[0;34m(\u001b[0m\u001b[0menv_var\u001b[0m\u001b[0;34m,\u001b[0m \u001b[0;32mFalse\u001b[0m\u001b[0;34m)\u001b[0m\u001b[0;34m:\u001b[0m\u001b[0;34m\u001b[0m\u001b[0;34m\u001b[0m\u001b[0m\n\u001b[0;32m---> 48\u001b[0;31m       \u001b[0;32mraise\u001b[0m \u001b[0mDisabledFunctionError\u001b[0m\u001b[0;34m(\u001b[0m\u001b[0mmessage\u001b[0m\u001b[0;34m,\u001b[0m \u001b[0mname\u001b[0m \u001b[0;32mor\u001b[0m \u001b[0mfunc\u001b[0m\u001b[0;34m.\u001b[0m\u001b[0m__name__\u001b[0m\u001b[0;34m)\u001b[0m\u001b[0;34m\u001b[0m\u001b[0;34m\u001b[0m\u001b[0m\n\u001b[0m\u001b[1;32m     49\u001b[0m     \u001b[0;32mreturn\u001b[0m \u001b[0mfunc\u001b[0m\u001b[0;34m(\u001b[0m\u001b[0;34m*\u001b[0m\u001b[0margs\u001b[0m\u001b[0;34m,\u001b[0m \u001b[0;34m**\u001b[0m\u001b[0mkwargs\u001b[0m\u001b[0;34m)\u001b[0m\u001b[0;34m\u001b[0m\u001b[0;34m\u001b[0m\u001b[0m\n\u001b[1;32m     50\u001b[0m \u001b[0;34m\u001b[0m\u001b[0m\n",
            "\u001b[0;31mDisabledFunctionError\u001b[0m: cv2.imshow() is disabled in Colab, because it causes Jupyter sessions\nto crash; see https://github.com/jupyter/notebook/issues/3935.\nAs a substitution, consider using\n  from google.colab.patches import cv2_imshow\n"
          ],
          "errorDetails": {
            "actions": [
              {
                "action": "open_snippet",
                "actionText": "Search Snippets for cv2.imshow",
                "snippetFilter": "cv2.imshow"
              }
            ]
          }
        }
      ],
      "source": [
        "import cv2\n",
        "import numpy as np\n",
        "import time\n",
        "\n",
        "# Constants\n",
        "SPEED_LIMIT = 60  # Speed limit in km/h\n",
        "FINE_PER_KM_OVER = 10  # Fine amount per km/h over the limit\n",
        "LANE_ROI = [(100, 300), (400, 300)]  # Regions of interest for lanes (x1, x2)\n",
        "FRAME_WIDTH = 640\n",
        "FRAME_HEIGHT = 480\n",
        "PIXELS_TO_METERS = 0.1  # Conversion factor (pixels to meters)\n",
        "FPS = 30  # Frames per second of the video\n",
        "\n",
        "# Load Haar Cascade models\n",
        "vehicle_detector = cv2.CascadeClassifier(\"/content/haarcascade_car.xml\")\n",
        "\n",
        "# Check if the model loaded successfully\n",
        "if vehicle_detector.empty():\n",
        "    print(\"Error: Could not load vehicle detector. Check the path to the XML file.\")\n",
        "    exit()\n",
        "\n",
        "# Vehicle tracking and speed calculation\n",
        "vehicle_tracker = {}\n",
        "vehicle_speeds = {}\n",
        "\n",
        "# Function to detect vehicles\n",
        "def detect_vehicles(frame):\n",
        "    gray = cv2.cvtColor(frame, cv2.COLOR_BGR2GRAY)\n",
        "    vehicles = vehicle_detector.detectMultiScale(gray, scaleFactor=1.1, minNeighbors=5)\n",
        "    return vehicles\n",
        "\n",
        "# Function to calculate speed\n",
        "def calculate_speed(vehicle_id, current_position):\n",
        "    if vehicle_id in vehicle_tracker:\n",
        "        previous_position, previous_time = vehicle_tracker[vehicle_id]\n",
        "        distance = np.linalg.norm(np.array(current_position) - np.array(previous_position)) * PIXELS_TO_METERS\n",
        "        time_elapsed = time.time() - previous_time\n",
        "        speed = (distance / time_elapsed) * 3.6  # Convert m/s to km/h\n",
        "        vehicle_speeds[vehicle_id] = speed\n",
        "    vehicle_tracker[vehicle_id] = (current_position, time.time())\n",
        "\n",
        "# Function to enforce speed limits\n",
        "def enforce_speed_limit(vehicle_id):\n",
        "    if vehicle_id in vehicle_speeds:\n",
        "        speed = vehicle_speeds[vehicle_id]\n",
        "        if speed > SPEED_LIMIT:\n",
        "            fine = (speed - SPEED_LIMIT) * FINE_PER_KM_OVER\n",
        "            print(f\"Fine issued to vehicle {vehicle_id}: ${fine} for speeding at {speed:.2f} km/h.\")\n",
        "\n",
        "# Function to count vehicles in each lane\n",
        "def count_vehicles(vehicles):\n",
        "    lane_counts = [0, 0]  # Count for each lane\n",
        "    for (x, y, w, h) in vehicles:\n",
        "        if x < LANE_ROI[0][1]:\n",
        "            lane_counts[0] += 1\n",
        "        else:\n",
        "            lane_counts[1] += 1\n",
        "    return lane_counts\n",
        "\n",
        "# Function to adjust traffic lights\n",
        "def adjust_traffic_lights(lane_counts):\n",
        "    if lane_counts[0] > lane_counts[1]:\n",
        "        print(\"Lane 1 has more vehicles. Giving longer green light to Lane 1.\")\n",
        "        return \"Lane_1_Green\"\n",
        "    else:\n",
        "        print(\"Lane 2 has more vehicles. Giving longer green light to Lane 2.\")\n",
        "        return \"Lane_2_Green\"\n",
        "\n",
        "# Main function\n",
        "def main(video_path):\n",
        "    cap = cv2.VideoCapture(video_path)\n",
        "    if not cap.isOpened():\n",
        "        print(\"Error: Could not open video.\")\n",
        "        return\n",
        "\n",
        "    frame_id = 0\n",
        "    while True:\n",
        "        ret, frame = cap.read()\n",
        "        if not ret:\n",
        "            break\n",
        "\n",
        "        frame_id += 1\n",
        "        vehicles = detect_vehicles(frame)\n",
        "        lane_counts = count_vehicles(vehicles)\n",
        "        traffic_light_status = adjust_traffic_lights(lane_counts)\n",
        "\n",
        "        for (x, y, w, h) in vehicles:\n",
        "            cv2.rectangle(frame, (x, y), (x + w, y + h), (255, 0, 0), 2)\n",
        "            vehicle_id = f\"{x}_{y}\"\n",
        "            calculate_speed(vehicle_id, (x + w // 2, y + h // 2))\n",
        "            enforce_speed_limit(vehicle_id)\n",
        "\n",
        "        # Display frame\n",
        "        cv2.imshow(\"Traffic Management\", frame)\n",
        "        if cv2.waitKey(1) & 0xFF == ord('q'):\n",
        "            break\n",
        "\n",
        "    cap.release()\n",
        "    cv2.destroyAllWindows()\n",
        "\n",
        "# Run the system\n",
        "if __name__ == \"__main__\":\n",
        "    video_path = \"/content/invideo-ai-1080 The Lone Car Journey 2025-03-20.mp4\"  # Replace with your video file path\n",
        "    main(video_path)"
      ]
    },
    {
      "cell_type": "markdown",
      "source": [],
      "metadata": {
        "id": "77B6qHPu4Peq"
      }
    }
  ]
}